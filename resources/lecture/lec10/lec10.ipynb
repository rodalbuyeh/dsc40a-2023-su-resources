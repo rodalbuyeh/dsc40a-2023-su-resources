{
 "cells": [
  {
   "cell_type": "markdown",
   "metadata": {},
   "source": [
    "# Module 10 – Regression via Linear Algebra\n",
    "\n",
    "## DSC 40A, Summer 2023"
   ]
  },
  {
   "cell_type": "code",
   "execution_count": null,
   "metadata": {},
   "outputs": [],
   "source": [
    "import pandas as pd\n",
    "import numpy as np\n"
   ]
  },
  {
   "cell_type": "markdown",
   "metadata": {},
   "source": [
    "We'll work with the same dataset of data scientist salaries. As before, we've cleaned the data and omitted anyone with a salary over 1 million dollars."
   ]
  },
  {
   "cell_type": "code",
   "execution_count": null,
   "metadata": {
    "scrolled": true
   },
   "outputs": [],
   "source": [
    "# Run this cell to load in our dataset. We've already cleaned it for you.\n",
    "salaries = pd.read_csv('data/data_scientist_salaries_for_regression.csv')\n",
    "salaries = salaries[(salaries['Salary'] < 1_000_000)].reset_index()\n",
    "salaries"
   ]
  },
  {
   "cell_type": "markdown",
   "metadata": {},
   "source": [
    "### Design matrix\n",
    "\n",
    "We're trying to find a linear prediction rule where the only feature is `'YearsExperience'`. Our design matrix would then look like this:"
   ]
  },
  {
   "cell_type": "code",
   "execution_count": null,
   "metadata": {},
   "outputs": [],
   "source": [
    "# Don't worry about this code ---\n",
    "X_as_df = pd.DataFrame()\n",
    "X_as_df['1'] = np.ones(salaries.shape[0]).astype(int)\n",
    "X_as_df['YearsExperience'] = salaries['YearsExperience']\n",
    "X_as_df\n",
    "# ---\n",
    "\n",
    "X_as_df"
   ]
  },
  {
   "cell_type": "markdown",
   "metadata": {},
   "source": [
    "It looks nice as a DataFrame, but we really need the design matrix as a numpy array to be able to work with it. "
   ]
  },
  {
   "cell_type": "code",
   "execution_count": null,
   "metadata": {
    "scrolled": true
   },
   "outputs": [],
   "source": [
    "# Converting to a numpy array\n",
    "X = X_as_df.values\n",
    "X"
   ]
  },
  {
   "cell_type": "markdown",
   "metadata": {},
   "source": [
    "### Observation vector"
   ]
  },
  {
   "cell_type": "markdown",
   "metadata": {},
   "source": [
    "The observation vector represents each person's actual salary (as they reported it). We'll represent salaries in thousands of dollars. Our observation vector would look like this:"
   ]
  },
  {
   "cell_type": "code",
   "execution_count": null,
   "metadata": {
    "scrolled": false
   },
   "outputs": [],
   "source": [
    "y = salaries['Salary']/1000\n",
    "y"
   ]
  },
  {
   "cell_type": "markdown",
   "metadata": {},
   "source": [
    "Again, we'll need this as a numpy array."
   ]
  },
  {
   "cell_type": "code",
   "execution_count": null,
   "metadata": {},
   "outputs": [],
   "source": [
    "# Converting to a numpy array\n",
    "y = y.values\n",
    "y"
   ]
  },
  {
   "cell_type": "markdown",
   "metadata": {},
   "source": [
    "### Making predictions\n",
    "\n",
    "For any vector $\\vec{w} \\in \\mathbb{R}^{2}$, we can make predictions using\n",
    "\n",
    "$$\\vec{h} = X \\vec{w}$$\n",
    "\n",
    "Let's test it out!\n",
    "\n"
   ]
  },
  {
   "cell_type": "code",
   "execution_count": null,
   "metadata": {},
   "outputs": [],
   "source": [
    "#The @ symbol does matrix multiplication.\n",
    "X @ np.array([80, 3])"
   ]
  },
  {
   "cell_type": "markdown",
   "metadata": {},
   "source": [
    "Our goal is to get the above array as close to `y` as possible. In other words, we want our predicted salaries to be as close to the actual salaries as possible."
   ]
  },
  {
   "cell_type": "code",
   "execution_count": null,
   "metadata": {},
   "outputs": [],
   "source": [
    "y"
   ]
  },
  {
   "cell_type": "markdown",
   "metadata": {},
   "source": [
    "### Implementing the solution\n",
    "\n",
    "We claimed that the vector $\\vec{w}$ that minimizes\n",
    "\n",
    "$$R_{sq}(\\vec{w}) = \\frac{1}{n} || \\vec{y} - X \\vec{w} ||^2$$\n",
    "\n",
    "is\n",
    "\n",
    "$$\\vec{w}^* = (X^TX)^{-1}X^T\\vec{y}$$"
   ]
  },
  {
   "cell_type": "code",
   "execution_count": null,
   "metadata": {},
   "outputs": [],
   "source": [
    "#Given a design matrix and an observation vector, find the optimal parameter vector, w.\n",
    "def least_squares(X, y):\n",
    "    return np.linalg.inv(X.T @ X) @ X.T @ y"
   ]
  },
  {
   "cell_type": "code",
   "execution_count": null,
   "metadata": {},
   "outputs": [],
   "source": [
    "w_star = least_squares(X, y)"
   ]
  },
  {
   "cell_type": "code",
   "execution_count": null,
   "metadata": {
    "scrolled": true
   },
   "outputs": [],
   "source": [
    "w_star"
   ]
  },
  {
   "cell_type": "markdown",
   "metadata": {},
   "source": [
    "What if I have 10 years of experience – what should I expect my salary to be?"
   ]
  },
  {
   "cell_type": "code",
   "execution_count": null,
   "metadata": {},
   "outputs": [],
   "source": [
    "np.array([1, 10]) @ w_star"
   ]
  },
  {
   "cell_type": "markdown",
   "metadata": {},
   "source": [
    "### Comparing to the formulas\n",
    "\n",
    "We get the same results using linear algebra as we got using the formulas from last time.\n",
    "\n",
    "\n",
    "$$w_1^* = r \\frac{\\sigma_y}{\\sigma_x}$$\n",
    "\n",
    "$$w_0^* = \\bar{y} - w_1^* \\bar{x}$$"
   ]
  },
  {
   "cell_type": "code",
   "execution_count": null,
   "metadata": {},
   "outputs": [],
   "source": [
    "def correlation(x, y):\n",
    "    x = np.array(x)\n",
    "    y = np.array(y)\n",
    "    \n",
    "    x_su = (x - np.mean(x)) / np.std(x)\n",
    "    y_su = (y - np.mean(y)) / np.std(y)\n",
    "    \n",
    "    return np.mean(x_su * y_su)\n",
    "\n",
    "def slope(x, y):\n",
    "    return correlation(x, y) * np.std(y) / np.std(x)\n",
    "\n",
    "def intercept(x, y):\n",
    "    return np.mean(y) - slope(x, y) * np.mean(x)"
   ]
  },
  {
   "cell_type": "code",
   "execution_count": null,
   "metadata": {},
   "outputs": [],
   "source": [
    "intercept(X[:, 1], y)"
   ]
  },
  {
   "cell_type": "code",
   "execution_count": null,
   "metadata": {},
   "outputs": [],
   "source": [
    "slope(X[:, 1], y)"
   ]
  }
 ],
 "metadata": {
  "kernelspec": {
   "display_name": "Python 3 (ipykernel)",
   "language": "python",
   "name": "python3"
  },
  "language_info": {
   "codemirror_mode": {
    "name": "ipython",
    "version": 3
   },
   "file_extension": ".py",
   "mimetype": "text/x-python",
   "name": "python",
   "nbconvert_exporter": "python",
   "pygments_lexer": "ipython3",
   "version": "3.9.7"
  }
 },
 "nbformat": 4,
 "nbformat_minor": 4
}
